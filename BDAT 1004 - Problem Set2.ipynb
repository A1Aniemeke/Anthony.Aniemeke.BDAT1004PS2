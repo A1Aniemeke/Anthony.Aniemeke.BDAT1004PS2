{
 "cells": [
  {
   "cell_type": "markdown",
   "id": "1cf8c3ba-e878-460e-83dc-9650e9d18bda",
   "metadata": {},
   "source": [
    "# Question 1"
   ]
  },
  {
   "cell_type": "code",
   "execution_count": 7,
   "id": "7b92aa10-b505-4e03-b934-8eff667ad7fe",
   "metadata": {},
   "outputs": [
    {
     "name": "stdout",
     "output_type": "stream",
     "text": [
      "6\n"
     ]
    }
   ],
   "source": [
    "a = 0  # Global variable `a` is initialized to 0.\n",
    "\n",
    "def b():  # Defines the function `b()`.\n",
    "    global a  # Declares that the global `a` will be modified inside `b()`.\n",
    "    a = c(a)  # Calls the function `c(a)`, and assigns the result back to global `a`.\n",
    "\n",
    "def c(a):  # Defines the function `c(a)` to take one argument.\n",
    "    return a + 2  # Returns the input `a` incremented by 2.\n",
    "\n",
    "\n",
    "b()  # First call to `b()`, modifies global `a`.\n",
    "b()  # Second call to `b()`, modifies global `a`.\n",
    "b()  # Third call to `b()`, modifies global `a`.\n",
    "\n",
    "print(a)  # Prints the final value of `a`."
   ]
  },
  {
   "cell_type": "markdown",
   "id": "8d0a7228-9edc-4c5b-bba0-d078699c9529",
   "metadata": {},
   "source": [
    "# Question 2\n",
    "Function fileLength"
   ]
  },
  {
   "cell_type": "code",
   "execution_count": 4,
   "id": "406ff3d2-f274-42ef-b94d-1e5c7d366cb3",
   "metadata": {},
   "outputs": [
    {
     "name": "stdout",
     "output_type": "stream",
     "text": [
      "File idterm.py not found.\n"
     ]
    },
    {
     "data": {
      "text/plain": [
       "123"
      ]
     },
     "execution_count": 4,
     "metadata": {},
     "output_type": "execute_result"
    }
   ],
   "source": [
    "def fileLength(filename):\n",
    "    try:\n",
    "        infile = open(filename, 'r')\n",
    "        contents = infile.read()\n",
    "        infile.close()\n",
    "        return len(contents)\n",
    "    except FileNotFoundError:\n",
    "        print(f\"File {filename} not found.\")\n",
    "\n",
    "\n",
    "fileLength('idterm.py')\n",
    "fileLength('fileLength.txt')"
   ]
  },
  {
   "cell_type": "markdown",
   "id": "f90f02d1-188d-435d-896f-72bf28f2f998",
   "metadata": {},
   "source": [
    "# Question 3"
   ]
  },
  {
   "cell_type": "code",
   "execution_count": 13,
   "id": "5e360df4-e2fa-4f8d-9fbb-2366ceecea80",
   "metadata": {},
   "outputs": [
    {
     "name": "stdout",
     "output_type": "stream",
     "text": [
      "I am a Kangaroo located at coordinates (0,0)\n",
      "['doll', 'firetruck', 'kitten']\n",
      "I am a Kangaroo located at coordinates (3,0)\n"
     ]
    }
   ],
   "source": [
    "# Marsupial class Definiton\n",
    "class Marsupial:\n",
    "    def __init__(self):\n",
    "        self.pouch = []\n",
    "    \n",
    "    def put_in_pouch(self, item):\n",
    "        self.pouch.append(item)\n",
    "    \n",
    "    def pouch_contents(self):\n",
    "        return self.pouch\n",
    "\n",
    "# Kangaroo class Definition\n",
    "class Kangaroo(Marsupial):\n",
    "    def __init__(self, x, y):\n",
    "        super().__init__()\n",
    "        self.x = x\n",
    "        self.y = y \n",
    "    \n",
    "    def jump(self, dx, dy):\n",
    "        self.x += dx\n",
    "        self.y += dy\n",
    "    \n",
    "    def __str__(self):\n",
    "        return f'I am a Kangaroo located at coordinates ({self.x},{self.y})'\n",
    "\n",
    "# Kangaroo class \n",
    "k = Kangaroo(0, 0)\n",
    "print(k)\n",
    "\n",
    "# Adding items to the kangaroo's pouch\n",
    "k.put_in_pouch('doll')\n",
    "k.put_in_pouch('firetruck')\n",
    "k.put_in_pouch('kitten')\n",
    "print(k.pouch_contents())\n",
    "\n",
    "# Make the kangaroo jump\n",
    "k.jump(1, 0)\n",
    "k.jump(1, 0)\n",
    "k.jump(1, 0)\n",
    "print(k)"
   ]
  },
  {
   "cell_type": "markdown",
   "id": "4b01912f-79b1-4512-9cb5-79af6a7632bb",
   "metadata": {},
   "source": [
    "# Question 4 \n",
    "Function Collatz"
   ]
  },
  {
   "cell_type": "code",
   "execution_count": 16,
   "id": "9ec205b0-4137-454d-8369-64c28659714a",
   "metadata": {},
   "outputs": [
    {
     "name": "stdout",
     "output_type": "stream",
     "text": [
      "1\n",
      "10\n",
      "5\n",
      "16\n",
      "8\n",
      "4\n",
      "2\n",
      "1\n"
     ]
    }
   ],
   "source": [
    "def collatz(x):\n",
    "    print(x)\n",
    "    if x == 1:\n",
    "        return\n",
    "    elif x % 2 == 0:\n",
    "        collatz(x // 2)\n",
    "    else:  # If x is odd\n",
    "        collatz(3 * x + 1)\n",
    "collatz(1)\n",
    "collatz(10)"
   ]
  },
  {
   "cell_type": "markdown",
   "id": "0c1ea95b-492a-4906-adeb-0cc0c88591aa",
   "metadata": {},
   "source": [
    "# Question 5\n",
    "Recursive Method Binary"
   ]
  },
  {
   "cell_type": "code",
   "execution_count": 19,
   "id": "9a20eb62-f97d-4539-ac9b-5f5c6887c2b6",
   "metadata": {},
   "outputs": [
    {
     "name": "stdout",
     "output_type": "stream",
     "text": [
      "0\n",
      "1\n",
      "11\n",
      "1001\n"
     ]
    }
   ],
   "source": [
    "def binary(n):\n",
    "    if n == 0:\n",
    "        print(0, end='')  #if n is 0, print 0\n",
    "    elif n == 1:\n",
    "        print(1, end='')  #if n is 1, print 1\n",
    "    else:\n",
    "        binary(n // 2)\n",
    "        print(n % 2, end='')  # Print the remainder\n",
    "\n",
    "\n",
    "binary(0)\n",
    "print() \n",
    "binary(1)\n",
    "print()\n",
    "binary(3)\n",
    "print()\n",
    "binary(9)\n",
    "print()"
   ]
  },
  {
   "cell_type": "markdown",
   "id": "060b847d-ed9f-4105-8268-faef8d49ffb3",
   "metadata": {},
   "source": [
    "# Question 6 \n",
    "Heading Parser"
   ]
  },
  {
   "cell_type": "code",
   "execution_count": 22,
   "id": "4da1240c-7a58-4de3-8c88-684ec3523997",
   "metadata": {},
   "outputs": [
    {
     "name": "stdout",
     "output_type": "stream",
     "text": [
      "W3C Mission\n",
      " Principles\n"
     ]
    }
   ],
   "source": [
    "from html.parser import HTMLParser\n",
    "\n",
    "class HeadingParser(HTMLParser):\n",
    "    def __init__(self):\n",
    "        super().__init__()\n",
    "        self.current_tag = None  # Track the current HTML tag\n",
    "\n",
    "    def handle_starttag(self, tag, attrs):\n",
    "        # Tracking if the current tag is a heading tag (e.g. h1, h2, etc.)\n",
    "        if tag in ['h1', 'h2', 'h3', 'h4', 'h5', 'h6']:\n",
    "            self.current_tag = tag\n",
    "\n",
    "    def handle_endtag(self, tag):\n",
    "        # Reseting the current tag when a heading tag ends\n",
    "        if tag in ['h1', 'h2', 'h3', 'h4', 'h5', 'h6']:\n",
    "            self.current_tag = None\n",
    "\n",
    "    def handle_data(self, data):\n",
    "        if self.current_tag:\n",
    "            indent_level = int(self.current_tag[1]) - 1\n",
    "            print(\" \" * indent_level + data)\n",
    "\n",
    "\n",
    "infile = open('w3c.txt', 'r') \n",
    "content = infile.read()\n",
    "infile.close()\n",
    "\n",
    "\n",
    "hp = HeadingParser()\n",
    "hp.feed(content)"
   ]
  },
  {
   "cell_type": "markdown",
   "id": "80150b9c-ee66-486d-ba61-386899af788d",
   "metadata": {},
   "source": [
    "# Question 7\n",
    "Recursive Function Webdir"
   ]
  },
  {
   "cell_type": "code",
   "execution_count": 27,
   "id": "e913a164-15a6-44c1-b323-535eb1902657",
   "metadata": {},
   "outputs": [
    {
     "name": "stdout",
     "output_type": "stream",
     "text": [
      "http://reed.cs.depaul.edu/lperkovic/csc242/test1.html\n",
      "Failed to retrieve http://reed.cs.depaul.edu/lperkovic/csc242/test1.html: HTTP Error 404: \n"
     ]
    }
   ],
   "source": [
    "import urllib.request\n",
    "from html.parser import HTMLParser\n",
    "\n",
    "class LinkParser(HTMLParser):\n",
    "    def __init__(self):\n",
    "        super().__init__()\n",
    "        self.links = []\n",
    "\n",
    "    def handle_starttag(self, tag, attrs):\n",
    "        if tag == 'a':\n",
    "            for (attr, value) in attrs:\n",
    "                if attr == 'href':\n",
    "                    self.links.append(value)\n",
    "\n",
    "    def get_links(self):\n",
    "        return self.links\n",
    "\n",
    "def webdir(url, depth, indent):\n",
    "    if depth < 0:\n",
    "        return\n",
    "\n",
    "    \n",
    "    print(\" \" * indent + url)\n",
    "\n",
    "    try:\n",
    "        # Fetch the web page\n",
    "        response = urllib.request.urlopen(url)\n",
    "        content = response.read().decode('utf-8')\n",
    "    except Exception as e:\n",
    "        print(f\"Failed to retrieve {url}: {e}\")\n",
    "        return\n",
    "\n",
    "    # Parse the web page to find links\n",
    "    parser = LinkParser()\n",
    "    parser.feed(content)\n",
    "    links = parser.get_links()\n",
    "\n",
    "    # Visit each link (recursively), decreasing depth and increasing indentation\n",
    "    for link in links:\n",
    "        if link.startswith('http'):  # Only process full URLs\n",
    "            webdir(link, depth - 1, indent + 1)\n",
    "\n",
    "\n",
    "webdir('http://reed.cs.depaul.edu/lperkovic/csc242/test1.html', 2, 0)"
   ]
  },
  {
   "cell_type": "markdown",
   "id": "6a3391cf-6b03-4167-81ab-0ebeeac5f4f3",
   "metadata": {},
   "source": [
    "# Question 8 \n",
    "SQL Queries"
   ]
  },
  {
   "cell_type": "code",
   "execution_count": 35,
   "id": "fe365a14-a992-46ec-85b3-0ea519e79062",
   "metadata": {},
   "outputs": [
    {
     "name": "stdout",
     "output_type": "stream",
     "text": [
      "a) All the temperature data\n",
      "    Temperature\n",
      "0          24.8\n",
      "1          28.4\n",
      "2          27.9\n",
      "3          27.6\n",
      "4           4.2\n",
      "5           8.3\n",
      "6          15.7\n",
      "7          10.4\n",
      "8          13.6\n",
      "9          20.7\n",
      "10         27.7\n",
      "11         22.2\n",
      "\n",
      "b) All the cities, but without repetition\n",
      "     City\n",
      "0  Mumbai\n",
      "1  London\n",
      "2   Cairo\n",
      "\n",
      "c) All the records for India\n",
      "     City Country  Season  Temperature  Rainfall\n",
      "0  Mumbai   India  Winter         24.8       5.9\n",
      "1  Mumbai   India  Spring         28.4      16.2\n",
      "2  Mumbai   India  Summer         27.9    1549.4\n",
      "3  Mumbai   India    Fall         27.6     346.0\n",
      "\n",
      "d) All the Fall records\n",
      "     City         Country Season  Temperature  Rainfall\n",
      "0  Mumbai           India   Fall         27.6     346.0\n",
      "1  London  United Kingdom   Fall         10.4     218.5\n",
      "2   Cairo           Egypt   Fall         22.2       4.5\n",
      "\n",
      "e) The city, country, and season for which the average rainfall is between 200 and 400 millimeters\n",
      "     City         Country  Season\n",
      "0  Mumbai           India    Fall\n",
      "1  London  United Kingdom  Winter\n",
      "2  London  United Kingdom    Fall\n",
      "\n",
      "f) The city and country for which the average Fall temperature is above 20 degrees, in increasing temperature order\n",
      "     City Country\n",
      "0   Cairo   Egypt\n",
      "1  Mumbai   India\n",
      "\n",
      "g) The total annual rainfall for Cairo\n",
      "   Total_Rainfall\n",
      "0            27.6\n",
      "\n",
      "h) The total rainfall for each season\n",
      "   Season  Total_Rainfall\n",
      "0    Fall           569.0\n",
      "1  Spring           192.3\n",
      "2  Summer          1706.5\n",
      "3  Winter           230.1\n"
     ]
    }
   ],
   "source": [
    "import sqlite3\n",
    "import pandas as pd\n",
    "\n",
    "# Create an SQLite database connection (or connect to an existing database)\n",
    "conn = sqlite3.connect(':memory:')  # Use in-memory database for this example\n",
    "\n",
    "# Create a cursor object\n",
    "cur = conn.cursor()\n",
    "\n",
    "# Create the weather_data table\n",
    "cur.execute('''\n",
    "    CREATE TABLE weather_data (\n",
    "        City TEXT,\n",
    "        Country TEXT,\n",
    "        Season TEXT,\n",
    "        Temperature REAL,\n",
    "        Rainfall REAL\n",
    "    )\n",
    "''')\n",
    "\n",
    "# Insert data into the weather_data table\n",
    "weather_data = [\n",
    "    ('Mumbai', 'India', 'Winter', 24.8, 5.9),\n",
    "    ('Mumbai', 'India', 'Spring', 28.4, 16.2),\n",
    "    ('Mumbai', 'India', 'Summer', 27.9, 1549.4),\n",
    "    ('Mumbai', 'India', 'Fall', 27.6, 346.0),\n",
    "    ('London', 'United Kingdom', 'Winter', 4.2, 207.7),\n",
    "    ('London', 'United Kingdom', 'Spring', 8.3, 169.6),\n",
    "    ('London', 'United Kingdom', 'Summer', 15.7, 157.0),\n",
    "    ('London', 'United Kingdom', 'Fall', 10.4, 218.5),\n",
    "    ('Cairo', 'Egypt', 'Winter', 13.6, 16.5),\n",
    "    ('Cairo', 'Egypt', 'Spring', 20.7, 6.5),\n",
    "    ('Cairo', 'Egypt', 'Summer', 27.7, 0.1),\n",
    "    ('Cairo', 'Egypt', 'Fall', 22.2, 4.5)\n",
    "]\n",
    "\n",
    "cur.executemany('INSERT INTO weather_data VALUES (?, ?, ?, ?, ?)', weather_data)\n",
    "\n",
    "# Commit the changes\n",
    "conn.commit()\n",
    "\n",
    "# a) All the temperature data\n",
    "df_a = pd.read_sql_query(\"SELECT Temperature FROM weather_data\", conn)\n",
    "print(\"a) All the temperature data\")\n",
    "print(df_a)\n",
    "\n",
    "# b) All the cities, but without repetition\n",
    "df_b = pd.read_sql_query(\"SELECT DISTINCT City FROM weather_data\", conn)\n",
    "print(\"\\nb) All the cities, but without repetition\")\n",
    "print(df_b)\n",
    "\n",
    "# c) All the records for India\n",
    "df_c = pd.read_sql_query(\"SELECT * FROM weather_data WHERE Country = 'India'\", conn)\n",
    "print(\"\\nc) All the records for India\")\n",
    "print(df_c)\n",
    "\n",
    "# d) All the Fall records\n",
    "df_d = pd.read_sql_query(\"SELECT * FROM weather_data WHERE Season = 'Fall'\", conn)\n",
    "print(\"\\nd) All the Fall records\")\n",
    "print(df_d)\n",
    "\n",
    "# e) The city, country, and season for which the average rainfall is between 200 and 400 millimeters\n",
    "df_e = pd.read_sql_query(\"SELECT City, Country, Season FROM weather_data WHERE Rainfall BETWEEN 200 AND 400\", conn)\n",
    "print(\"\\ne) The city, country, and season for which the average rainfall is between 200 and 400 millimeters\")\n",
    "print(df_e)\n",
    "\n",
    "# f) The city and country for which the average Fall temperature is above 20 degrees, in increasing temperature order\n",
    "df_f = pd.read_sql_query(\"SELECT City, Country FROM weather_data WHERE Season = 'Fall' AND Temperature > 20 ORDER BY Temperature ASC\", conn)\n",
    "print(\"\\nf) The city and country for which the average Fall temperature is above 20 degrees, in increasing temperature order\")\n",
    "print(df_f)\n",
    "\n",
    "# g) The total annual rainfall for Cairo\n",
    "df_g = pd.read_sql_query(\"SELECT SUM(Rainfall) AS Total_Rainfall FROM weather_data WHERE City = 'Cairo'\", conn)\n",
    "print(\"\\ng) The total annual rainfall for Cairo\")\n",
    "print(df_g)\n",
    "\n",
    "# h) The total rainfall for each season\n",
    "df_h = pd.read_sql_query(\"SELECT Season, SUM(Rainfall) AS Total_Rainfall FROM weather_data GROUP BY Season\", conn)\n",
    "print(\"\\nh) The total rainfall for each season\")\n",
    "print(df_h)\n",
    "\n",
    "# Close the connection\n",
    "conn.close()\n",
    "\n"
   ]
  },
  {
   "cell_type": "markdown",
   "id": "f18e9d89-3acd-487b-902c-3fe72fe517cb",
   "metadata": {},
   "source": [
    "# Question 9 "
   ]
  },
  {
   "cell_type": "code",
   "execution_count": 40,
   "id": "7e8d1c72-b217-4f24-b4c9-6d5584d0e990",
   "metadata": {},
   "outputs": [
    {
     "name": "stdout",
     "output_type": "stream",
     "text": [
      "a) ['THE', 'QUICK', 'BROWN', 'FOX', 'JUMPS', 'OVER', 'THE', 'LAZY', 'DOG']\n",
      "b) ['the', 'quick', 'brown', 'fox', 'jumps', 'over', 'the', 'lazy', 'dog']\n",
      "c) [3, 5, 5, 3, 5, 4, 3, 4, 3]\n",
      "d) [['THE', 'the', 3], ['QUICK', 'quick', 5], ['BROWN', 'brown', 5], ['FOX', 'fox', 3], ['JUMPS', 'jumps', 5], ['OVER', 'over', 4], ['THE', 'the', 3], ['LAZY', 'lazy', 4], ['DOG', 'dog', 3]]\n",
      "e) ['quick', 'brown', 'jumps', 'over', 'lazy']\n"
     ]
    }
   ],
   "source": [
    "words = ['The', 'quick', 'brown', 'fox', 'jumps', 'over', 'the', 'lazy', 'dog']\n",
    "# a)\n",
    "uppercase_words = [word.upper() for word in words]\n",
    "\n",
    "# b) \n",
    "lowercase_words = [word.lower() for word in words]\n",
    "\n",
    "# c) \n",
    "word_lengths = [len(word) for word in words]\n",
    "\n",
    "# d)\n",
    "word_info = [[word.upper(), word.lower(), len(word)] for word in words]\n",
    "\n",
    "# e)\n",
    "words_4_or_more = [word for word in words if len(word) >= 4]\n",
    "\n",
    "print(\"a)\", uppercase_words)\n",
    "print(\"b)\", lowercase_words)\n",
    "print(\"c)\", word_lengths)\n",
    "print(\"d)\", word_info)\n",
    "print(\"e)\", words_4_or_more)\n"
   ]
  },
  {
   "cell_type": "code",
   "execution_count": null,
   "id": "39b09003-74c2-4ebb-94f5-0f21763e815d",
   "metadata": {},
   "outputs": [],
   "source": []
  }
 ],
 "metadata": {
  "kernelspec": {
   "display_name": "Python 3 (ipykernel)",
   "language": "python",
   "name": "python3"
  },
  "language_info": {
   "codemirror_mode": {
    "name": "ipython",
    "version": 3
   },
   "file_extension": ".py",
   "mimetype": "text/x-python",
   "name": "python",
   "nbconvert_exporter": "python",
   "pygments_lexer": "ipython3",
   "version": "3.12.4"
  }
 },
 "nbformat": 4,
 "nbformat_minor": 5
}
